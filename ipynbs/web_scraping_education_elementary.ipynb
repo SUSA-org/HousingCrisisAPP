{
 "cells": [
  {
   "cell_type": "code",
   "execution_count": 5,
   "metadata": {},
   "outputs": [],
   "source": [
    "import urllib.request as urllib2\n",
    "from bs4 import BeautifulSoup"
   ]
  },
  {
   "cell_type": "code",
   "execution_count": 6,
   "metadata": {
    "collapsed": true
   },
   "outputs": [],
   "source": [
    "quote_page = \"https://www.schooldigger.com/go/CA/schoolrank.aspx\""
   ]
  },
  {
   "cell_type": "code",
   "execution_count": 7,
   "metadata": {},
   "outputs": [],
   "source": [
    "page = urllib2.urlopen(quote_page)"
   ]
  },
  {
   "cell_type": "code",
   "execution_count": 9,
   "metadata": {},
   "outputs": [],
   "source": [
    "soup = BeautifulSoup(page, 'html.parser')"
   ]
  },
  {
   "cell_type": "code",
   "execution_count": 10,
   "metadata": {
    "collapsed": true
   },
   "outputs": [],
   "source": [
    "# name_box = soup.find('h1', attrs={'class': 'name'})"
   ]
  },
  {
   "cell_type": "code",
   "execution_count": 15,
   "metadata": {},
   "outputs": [
    {
     "name": "stdout",
     "output_type": "stream",
     "text": [
      "SchoolStudents/TeachersRanking (2017vs2016)IDRank(of 5692)SchoolTypeGradesAddressCityZipCountyDistrictIs CharterIs MagnetIs VirtualIs Title IPhone# StudentsFulltime TeachersStudent/Teacher RatioFree/Disc LunchRecipientsWhiteBlackHispanicAsianAmericanIndianPacificIslanderTwo orMore RacesAverage StandardScore (2017)Average StandardScore (2016)Rank (2016)Rank Change From2016SchoolDigger Rating (2017)\n"
     ]
    }
   ],
   "source": [
    "# name = name_box.text.strip() # strip() is used to remove starting and trailing\n",
    "# print(name)\n",
    "instructions = soup.find(\"thead\")\n",
    "print(instructions.get_text(strip=True))"
   ]
  },
  {
   "cell_type": "code",
   "execution_count": null,
   "metadata": {
    "collapsed": true
   },
   "outputs": [],
   "source": []
  }
 ],
 "metadata": {
  "kernelspec": {
   "display_name": "Python 3",
   "language": "python",
   "name": "python3"
  },
  "language_info": {
   "codemirror_mode": {
    "name": "ipython",
    "version": 3
   },
   "file_extension": ".py",
   "mimetype": "text/x-python",
   "name": "python",
   "nbconvert_exporter": "python",
   "pygments_lexer": "ipython3",
   "version": "3.5.4"
  }
 },
 "nbformat": 4,
 "nbformat_minor": 2
}
